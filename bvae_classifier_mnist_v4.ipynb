{
  "nbformat": 4,
  "nbformat_minor": 0,
  "metadata": {
    "colab": {
      "name": "bvae_classifier_mnist_v4.ipynb",
      "provenance": [],
      "collapsed_sections": []
    },
    "kernelspec": {
      "name": "python3",
      "display_name": "Python 3"
    },
    "accelerator": "GPU"
  },
  "cells": [
    {
      "cell_type": "code",
      "metadata": {
        "id": "6wEqGHMZtJl-"
      },
      "source": [
        "import numpy as np\n",
        "import matplotlib.pyplot as plt\n",
        "\n",
        "import torch \n",
        "from torch.autograd import Variable\n",
        "import torch.nn as nn\n",
        "from torch.nn import Conv2d, InstanceNorm2d, ConvTranspose2d\n",
        "from torch import optim \n",
        "import torch.nn.functional as F \n",
        "import torchvision"
      ],
      "execution_count": null,
      "outputs": []
    },
    {
      "cell_type": "code",
      "metadata": {
        "id": "iDHyAlu4trKZ"
      },
      "source": [
        "device = torch.device(\"cuda\" if torch.cuda.is_available() else \"cpu\")"
      ],
      "execution_count": null,
      "outputs": []
    },
    {
      "cell_type": "code",
      "metadata": {
        "colab": {
          "base_uri": "https://localhost:8080/"
        },
        "id": "pV9vimYctv9v",
        "outputId": "b9884ecb-2e7c-4828-d501-c16cc02fbb42"
      },
      "source": [
        "from google.colab import drive\n",
        "drive.mount('/content/gdrive')"
      ],
      "execution_count": null,
      "outputs": [
        {
          "output_type": "stream",
          "text": [
            "Mounted at /content/gdrive\n"
          ],
          "name": "stdout"
        }
      ]
    },
    {
      "cell_type": "code",
      "metadata": {
        "id": "dYMHmtg8twjR"
      },
      "source": [
        "# this won't work if the drive is shared with you\n",
        "# solution: right click on the shared folder and select 'add shortcut to my drive'\n",
        "%cd gdrive/My\\ Drive/CS7643_Final_Project"
      ],
      "execution_count": null,
      "outputs": []
    },
    {
      "cell_type": "code",
      "metadata": {
        "id": "KQ0CXfbzxBPb"
      },
      "source": [
        "# same definition as defined in beta-vae.ipynb\n",
        "class bVAE(nn.Module):\n",
        "  def __init__(self, latent_dim):\n",
        "    super(bVAE, self).__init__()\n",
        "    self.latent_dim = latent_dim\n",
        "    # Encoder\n",
        "    self.c1 = nn.Conv2d(1, 32, kernel_size = 4, stride = 2, padding = 1)\n",
        "    self.b1 = nn.BatchNorm2d(32)\n",
        "    self.c2 = nn.Conv2d(32, 64, kernel_size = 4, stride = 2, padding = 1)\n",
        "    self.b2 = nn.BatchNorm2d(64)\n",
        "    self.c3 = nn.Conv2d(64, 64, kernel_size = 4, stride = 1, padding = 1)\n",
        "    self.b3 = nn.BatchNorm2d(64)\n",
        "\n",
        "    self.fc1 = nn.Linear(64 * 6 * 6, latent_dim)\n",
        "    self.fc2 = nn.Linear(64 * 6 * 6, latent_dim)\n",
        "\n",
        "    # Decoder\n",
        "    self.fc3 = nn.Linear(latent_dim, 64 * 6 * 6)\n",
        "    self.d1 = nn.ConvTranspose2d(64, 64, kernel_size = 4, stride = 1, padding = 1)\n",
        "    self.db1 = nn.BatchNorm2d(64)\n",
        "    self.d2 = nn.ConvTranspose2d(64, 32, kernel_size = 4, stride = 2, padding = 1)\n",
        "    self.db2 = nn.BatchNorm2d(32)\n",
        "    self.d3 = nn.ConvTranspose2d(32, 1, kernel_size = 4, stride = 2, padding = 1)\n",
        "    self.db3 = nn.BatchNorm2d(1)\n",
        "    self.sigmoid = nn.Sigmoid()\n",
        "  \n",
        "  def encode(self, x):\n",
        "    out = F.relu(self.b1(self.c1(x)))\n",
        "    out = F.relu(self.b2(self.c2(out)))\n",
        "    out = F.relu(self.b3(self.c3(out)))\n",
        "    # Resize from (batch_size, num_classes, w, h) to (batch_size,num_classes*w*h)\n",
        "    out = out.view(out.shape[0], -1)\n",
        "    mu, logvar = F.relu(self.fc1(out)), F.relu(self.fc2(out))\n",
        "    return mu, logvar\n",
        "  \n",
        "  def decode(self, z):\n",
        "    out = F.relu(self.fc3(z))\n",
        "    out = out.view(-1, 64, 6, 6)\n",
        "    out = F.relu(self.db1(self.d1(out)))\n",
        "    out = F.relu(self.db2(self.d2(out)))\n",
        "    return self.sigmoid(self.db3(self.d3(out)))\n",
        "  \n",
        "  def reparameterize(self, mu, logvar):\n",
        "    std = torch.exp(0.5*logvar)\n",
        "    eps = torch.randn_like(std)\n",
        "    return mu + eps*std\n",
        "\n",
        "  def forward(self, x):\n",
        "    mu, logvar = self.encode(x)\n",
        "    z = self.reparameterize(mu, logvar)\n",
        "    return self.decode(z), mu, logvar"
      ],
      "execution_count": null,
      "outputs": []
    },
    {
      "cell_type": "code",
      "metadata": {
        "id": "MOnzZq0Nxaqn"
      },
      "source": [
        "pretrained_vae = bVAE(20).eval().to(device)\n",
        "pretrained_vae.load_state_dict(torch.load('bVAE.pt'))\n",
        "\n",
        "for param in pretrained_vae.parameters():\n",
        "  param.requires_grad_(False)"
      ],
      "execution_count": null,
      "outputs": []
    },
    {
      "cell_type": "code",
      "metadata": {
        "id": "mqG9RaDIvpV9"
      },
      "source": [
        "class Decoder_classifier(nn.Module):\n",
        "  def __init__(self):\n",
        "    super(Decoder_classifier, self).__init__()\n",
        "    self.fc1 = nn.Linear(20, 15)\n",
        "    self.fc2 = nn.Linear(15, 10)\n",
        "\n",
        "  \n",
        "  def forward(self, x):\n",
        "    mu, logvar = pretrained_vae.encode(x)\n",
        "    z = pretrained_vae.reparameterize(mu,logvar)\n",
        "    out = F.selu(self.fc1(z))\n",
        "    out = self.fc2(out)\n",
        "    return out"
      ],
      "execution_count": null,
      "outputs": []
    },
    {
      "cell_type": "code",
      "metadata": {
        "id": "ahjR_IKy6Chh"
      },
      "source": [
        "def evaluate_model(model, dataloader, criterion = nn.CrossEntropyLoss()):\n",
        "    \"\"\"\n",
        "    Calculates the average loss and accuracy of the model on a dataset\n",
        "    \"\"\"\n",
        "    model.eval() # Notify all layers we're in eval mode instead of training mode\n",
        "    loss, total, correct = 0, 0, 0\n",
        "    n = 0\n",
        "    with torch.no_grad():\n",
        "      for xs, ys in dataloader:\n",
        "          output = model(xs.to(device))\n",
        "          loss += criterion(output, ys.to(device)).item()\n",
        "          _, predictions = torch.max(output.data, 1)\n",
        "          total += ys.size(0)\n",
        "          correct += (predictions == ys.to(device)).sum().item()\n",
        "          n += 1\n",
        "    \n",
        "    print(f'\\nTest loss: {loss / n: .2f} | Test accuracy: {correct / total : .2f}')\n",
        "    return loss / n, 100 * correct / total"
      ],
      "execution_count": null,
      "outputs": []
    },
    {
      "cell_type": "code",
      "metadata": {
        "id": "w7uwln3qtTip"
      },
      "source": [
        "batch_size = 128"
      ],
      "execution_count": null,
      "outputs": []
    },
    {
      "cell_type": "code",
      "metadata": {
        "id": "qT2yN-Z3vTfy"
      },
      "source": [
        "train_data_loader = torch.utils.data.DataLoader(\n",
        "  torchvision.datasets.MNIST('/files/', train=True, download=True,\n",
        "                             transform=torchvision.transforms.Compose([\n",
        "                               torchvision.transforms.ToTensor(),\n",
        "                               torchvision.transforms.Normalize(\n",
        "                                 (0.1307,), (0.3081,))\n",
        "                             ])),\n",
        "  batch_size=batch_size, shuffle=True)\n",
        "\n",
        "test_data_loader = torch.utils.data.DataLoader(\n",
        "  torchvision.datasets.MNIST('/files/', train=False, download=True,\n",
        "                             transform=torchvision.transforms.Compose([\n",
        "                               torchvision.transforms.ToTensor(),\n",
        "                               torchvision.transforms.Normalize(\n",
        "                                 (0.1307,), (0.3081,))\n",
        "                             ])),\n",
        "  batch_size=batch_size, shuffle=True)"
      ],
      "execution_count": null,
      "outputs": []
    },
    {
      "cell_type": "code",
      "metadata": {
        "id": "jclyOocJ1xCS"
      },
      "source": [
        "log_epoch = 10"
      ],
      "execution_count": null,
      "outputs": []
    },
    {
      "cell_type": "code",
      "metadata": {
        "id": "68cCAxge0fP_"
      },
      "source": [
        "classifier = Decoder_classifier().to(device)\n",
        "optimizer = optim.Adam(params = classifier.parameters())\n",
        "criterion = nn.CrossEntropyLoss()"
      ],
      "execution_count": null,
      "outputs": []
    },
    {
      "cell_type": "code",
      "metadata": {
        "id": "334Pk98r3Rjw"
      },
      "source": [
        "losses = []\n",
        "test_losses = []\n",
        "epochs = 20"
      ],
      "execution_count": null,
      "outputs": []
    },
    {
      "cell_type": "code",
      "metadata": {
        "colab": {
          "base_uri": "https://localhost:8080/"
        },
        "id": "LyCXxlFH1HYm",
        "outputId": "88527385-4517-4786-86af-41bbdea5b2d2"
      },
      "source": [
        "for epoch in range(1, epochs + 1):\n",
        "  total = 0\n",
        "  n = 0\n",
        "  for x, y in train_data_loader:\n",
        "\n",
        "    optimizer.zero_grad()\n",
        "    \n",
        "    out = classifier(x.to(device))\n",
        "    loss = criterion(out, y.to(device))\n",
        "    loss.backward()\n",
        "    optimizer.step()\n",
        "\n",
        "    total += loss.item()\n",
        "    n += 1\n",
        "  \n",
        "  losses.append(total / n)\n",
        "  test_loss, test_accuracy = evaluate_model(classifier, test_data_loader)\n",
        "  # put model back in train mode after putting it in eval mode\n",
        "  classifier.train()\n",
        "  test_losses.append(test_loss)\n",
        "  \n",
        "  print('Epoch: {}, Avg Loss: {:.4f}'.format(epoch, total / n))"
      ],
      "execution_count": null,
      "outputs": [
        {
          "output_type": "stream",
          "text": [
            "\n",
            "Test loss:  0.30 | Test accuracy:  0.92\n",
            "Epoch: 1, Avg Loss: 1.1552\n",
            "\n",
            "Test loss:  0.20 | Test accuracy:  0.94\n",
            "Epoch: 2, Avg Loss: 0.2421\n",
            "\n",
            "Test loss:  0.18 | Test accuracy:  0.95\n",
            "Epoch: 3, Avg Loss: 0.1983\n",
            "\n",
            "Test loss:  0.17 | Test accuracy:  0.95\n",
            "Epoch: 4, Avg Loss: 0.1834\n",
            "\n",
            "Test loss:  0.16 | Test accuracy:  0.95\n",
            "Epoch: 5, Avg Loss: 0.1737\n",
            "\n",
            "Test loss:  0.15 | Test accuracy:  0.96\n",
            "Epoch: 6, Avg Loss: 0.1650\n",
            "\n",
            "Test loss:  0.15 | Test accuracy:  0.96\n",
            "Epoch: 7, Avg Loss: 0.1584\n",
            "\n",
            "Test loss:  0.14 | Test accuracy:  0.96\n",
            "Epoch: 8, Avg Loss: 0.1535\n",
            "\n",
            "Test loss:  0.14 | Test accuracy:  0.96\n",
            "Epoch: 9, Avg Loss: 0.1493\n",
            "\n",
            "Test loss:  0.14 | Test accuracy:  0.96\n",
            "Epoch: 10, Avg Loss: 0.1455\n",
            "\n",
            "Test loss:  0.14 | Test accuracy:  0.96\n",
            "Epoch: 11, Avg Loss: 0.1422\n",
            "\n",
            "Test loss:  0.13 | Test accuracy:  0.96\n",
            "Epoch: 12, Avg Loss: 0.1398\n",
            "\n",
            "Test loss:  0.13 | Test accuracy:  0.96\n",
            "Epoch: 13, Avg Loss: 0.1379\n",
            "\n",
            "Test loss:  0.13 | Test accuracy:  0.96\n",
            "Epoch: 14, Avg Loss: 0.1351\n",
            "\n",
            "Test loss:  0.12 | Test accuracy:  0.96\n",
            "Epoch: 15, Avg Loss: 0.1340\n",
            "\n",
            "Test loss:  0.13 | Test accuracy:  0.96\n",
            "Epoch: 16, Avg Loss: 0.1320\n",
            "\n",
            "Test loss:  0.12 | Test accuracy:  0.96\n",
            "Epoch: 17, Avg Loss: 0.1304\n",
            "\n",
            "Test loss:  0.13 | Test accuracy:  0.96\n",
            "Epoch: 18, Avg Loss: 0.1278\n",
            "\n",
            "Test loss:  0.13 | Test accuracy:  0.96\n",
            "Epoch: 19, Avg Loss: 0.1279\n",
            "\n",
            "Test loss:  0.12 | Test accuracy:  0.96\n",
            "Epoch: 20, Avg Loss: 0.1269\n"
          ],
          "name": "stdout"
        }
      ]
    },
    {
      "cell_type": "code",
      "metadata": {
        "colab": {
          "base_uri": "https://localhost:8080/",
          "height": 620
        },
        "id": "gaVk2hIx4iqx",
        "outputId": "5660bf16-ac81-4717-f090-5ed50d801cb4"
      },
      "source": [
        "plt.rcParams['figure.figsize'] = [10, 8]\n",
        "plt.rcParams['figure.dpi'] = 90 \n",
        "\n",
        "plt.plot(list(range(1, epochs + 1)), losses, color='blue')\n",
        "plt.plot(list(range(1, epochs + 1)), test_losses, color = 'red')\n",
        "plt.legend(['Train Loss', 'Test Loss'], loc='upper right')\n",
        "plt.xlabel('Epoch')\n",
        "plt.ylabel('Cross Entropy Loss')\n",
        "plt.show()"
      ],
      "execution_count": null,
      "outputs": [
        {
          "output_type": "display_data",
          "data": {
            "image/png": "[encoded data removed]",
            "text/plain": [
              "<Figure size 900x720 with 1 Axes>"
            ]
          },
          "metadata": {
            "tags": [],
            "needs_background": "light"
          }
        }
      ]
    },
    {
      "cell_type": "code",
      "metadata": {
        "colab": {
          "base_uri": "https://localhost:8080/"
        },
        "id": "hrQuLMxX77_T",
        "outputId": "caeb968a-5566-43fe-b313-70ac81f8c86e"
      },
      "source": [
        "evaluate_model(classifier, test_data_loader)"
      ],
      "execution_count": null,
      "outputs": [
        {
          "output_type": "stream",
          "text": [
            "\n",
            "Test loss:  0.12 | Test accuracy:  0.97\n"
          ],
          "name": "stdout"
        },
        {
          "output_type": "execute_result",
          "data": {
            "text/plain": [
              "(0.12124431024812445, 96.63)"
            ]
          },
          "metadata": {
            "tags": []
          },
          "execution_count": 39
        }
      ]
    },
    {
      "cell_type": "code",
      "metadata": {
        "id": "xKRzl243_tPD"
      },
      "source": [
        "torch.save(classifier.state_dict(), 'bvae_classifier_mnist_v4.pt')"
      ],
      "execution_count": null,
      "outputs": []
    },
    {
      "cell_type": "code",
      "metadata": {
        "id": "rWX26N4nAevH"
      },
      "source": [
        "from sklearn.metrics import confusion_matrix\n",
        "\n",
        "def plot_confusion_matrix_mnist(model, dataloader):\n",
        "  preds, labels = torch.Tensor([]).to(device), torch.Tensor([]).to(device)\n",
        "  \n",
        "  with torch.no_grad():\n",
        "    for x_batch, y_batch in dataloader:\n",
        "      out = model(x_batch.to(device))\n",
        "      preds = torch.cat((preds, out), dim = 0)\n",
        "      labels = torch.cat((labels, y_batch.to(device)), dim = 0)\n",
        "  \n",
        "  preds = torch.argmax(preds, dim = 1)\n",
        "\n",
        "  count_matrix = torch.zeros((10, 10)).to(device)\n",
        "  \n",
        "  for pred, label in zip(preds, labels):\n",
        "    count_matrix[int(pred)][int(label)] += 1\n",
        "  \n",
        "  count_matrix = count_matrix / count_matrix.sum(axis = 1)\n",
        "\n",
        "  plt.imshow(count_matrix.cpu(), interpolation='nearest', cmap=plt.cm.Blues)\n",
        "  plt.title('Confusion matrix')\n",
        "  marks = list(range(10))\n",
        "  class_names = [str(x) for x in range(1, 11)]\n",
        "  plt.xlabel('Prediction')\n",
        "  plt.ylabel('Label')\n",
        "  plt.xticks(marks, class_names)\n",
        "  plt.yticks(marks, class_names)\n",
        "\n",
        "  threshold = count_matrix.max() / 2\n",
        "  # label each grid with its count\n",
        "  for i in range(10):\n",
        "    for j in range(10):\n",
        "      plt.text(j, i, format(count_matrix[i][j], '.2f'), ha=\"center\", va=\"center\",\n",
        "                    color=\"white\" if count_matrix[i][j] > threshold else \"black\")\n",
        "\n",
        "  \n",
        "  plt.colorbar()\n",
        "  plt.show()"
      ],
      "execution_count": null,
      "outputs": []
    },
    {
      "cell_type": "code",
      "metadata": {
        "colab": {
          "base_uri": "https://localhost:8080/",
          "height": 637
        },
        "id": "J6yKjpJCGrJS",
        "outputId": "57259350-68ce-4b30-88ce-f041163f6b48"
      },
      "source": [
        "plot_confusion_matrix_mnist(classifier, test_data_loader)"
      ],
      "execution_count": null,
      "outputs": [
        {
          "output_type": "display_data",
          "data": {
            "image/png": "[encoded data removed]",
            "text/plain": [
              "<Figure size 900x720 with 2 Axes>"
            ]
          },
          "metadata": {
            "tags": [],
            "needs_background": "light"
          }
        }
      ]
    }
  ]
}